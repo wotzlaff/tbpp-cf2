{
 "cells": [
  {
   "cell_type": "code",
   "execution_count": null,
   "metadata": {},
   "outputs": [],
   "source": [
    "import pandas as pd"
   ]
  },
  {
   "cell_type": "code",
   "execution_count": null,
   "metadata": {},
   "outputs": [],
   "source": [
    "data = pd.read_csv('../data/log_1.csv')\n",
    "data[['N', 't', 'd', 'c', 'idx']] = data['inst_name'].str.extract(r'cap100_n(\\d+)_t(\\d+)_(Lon|Sh)(Lr|Sm)_(\\d+)\\.txt')\n",
    "data = data.astype({'N': int, 't': int})"
   ]
  },
  {
   "cell_type": "code",
   "execution_count": null,
   "metadata": {},
   "outputs": [],
   "source": [
    "pt = data.pivot_table(\n",
    "    index=['N', 't', 'd', 'c'],\n",
    "    columns=['model_name'],\n",
    "    aggfunc={\n",
    "        'dt_solve': 'mean',\n",
    "        'solved': 'sum',\n",
    "        'val': 'mean',\n",
    "        'val_relax': 'mean',\n",
    "    },\n",
    ")\n",
    "pt.sort_index().swaplevel(axis='columns').sort_index(axis='columns')"
   ]
  }
 ],
 "metadata": {
  "jupytext": {
   "text_representation": {
    "extension": ".py",
    "format_name": "percent",
    "format_version": "1.3",
    "jupytext_version": "1.9.1"
   }
  },
  "kernelspec": {
   "display_name": "Python [conda env:grb]",
   "language": "python",
   "name": "conda-env-grb-py"
  },
  "language_info": {
   "codemirror_mode": {
    "name": "ipython",
    "version": 3
   },
   "file_extension": ".py",
   "mimetype": "text/x-python",
   "name": "python",
   "nbconvert_exporter": "python",
   "pygments_lexer": "ipython3",
   "version": "3.9.2"
  }
 },
 "nbformat": 4,
 "nbformat_minor": 4
}
